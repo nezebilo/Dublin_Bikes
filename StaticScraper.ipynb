{
 "cells": [
  {
   "cell_type": "code",
   "execution_count": 1,
   "metadata": {
    "collapsed": true,
    "ExecuteTime": {
     "start_time": "2023-04-18T11:29:44.737880Z",
     "end_time": "2023-04-18T11:29:45.850187Z"
    }
   },
   "outputs": [],
   "source": [
    "from sqlalchemy import create_engine\n",
    "import requests\n",
    "import sys\n",
    "import pymysql"
   ]
  },
  {
   "cell_type": "code",
   "execution_count": 2,
   "outputs": [],
   "source": [
    "URL = \"dbbikes.cvwut6jnqsvn.us-east-1.rds.amazonaws.com\"\n",
    "PORT = \"3306\"\n",
    "DB = \"dbbikes\"\n",
    "USER = \"admin\"\n",
    "PASSWORD = \"password\""
   ],
   "metadata": {
    "collapsed": false,
    "ExecuteTime": {
     "start_time": "2023-04-18T11:29:45.853183Z",
     "end_time": "2023-04-18T11:29:45.863148Z"
    }
   }
  },
  {
   "cell_type": "code",
   "execution_count": 3,
   "outputs": [
    {
     "name": "stdout",
     "output_type": "stream",
     "text": [
      "2023-04-18 11:29:46,651 INFO sqlalchemy.engine.Engine SELECT DATABASE()\n",
      "2023-04-18 11:29:46,658 INFO sqlalchemy.engine.Engine [raw sql] {}\n",
      "2023-04-18 11:29:46,857 INFO sqlalchemy.engine.Engine SELECT @@sql_mode\n",
      "2023-04-18 11:29:46,858 INFO sqlalchemy.engine.Engine [raw sql] {}\n",
      "2023-04-18 11:29:46,957 INFO sqlalchemy.engine.Engine SELECT @@lower_case_table_names\n",
      "2023-04-18 11:29:46,959 INFO sqlalchemy.engine.Engine [raw sql] {}\n",
      "2023-04-18 11:29:47,163 INFO sqlalchemy.engine.Engine \n",
      "CREATE TABLE IF NOT EXISTS station(\n",
      "address VARCHAR(256),\n",
      "banking int,\n",
      "bike_stands int,\n",
      "bonus int,\n",
      "contract_name varchar(256),\n",
      "name varchar(256),\n",
      "number int primary key,\n",
      "position_lat real,\n",
      "position_lng real,\n",
      "status varchar(256)\n",
      ")\n",
      "2023-04-18 11:29:47,165 INFO sqlalchemy.engine.Engine [raw sql] {}\n",
      "2023-04-18 11:29:47,274 INFO sqlalchemy.engine.Engine COMMIT\n"
     ]
    },
    {
     "data": {
      "text/plain": "<sqlalchemy.engine.cursor.LegacyCursorResult at 0x1a20d87f8b0>"
     },
     "execution_count": 3,
     "metadata": {},
     "output_type": "execute_result"
    }
   ],
   "source": [
    "engine = create_engine(f\"mysql+pymysql://{USER}:{PASSWORD}@{URL}:{PORT}/{DB}\",echo = True)\n",
    "\n",
    "sql =\"\"\"\n",
    "CREATE TABLE IF NOT EXISTS station(\n",
    "address VARCHAR(256),\n",
    "banking int,\n",
    "bike_stands int,\n",
    "bonus int,\n",
    "contract_name varchar(256),\n",
    "name varchar(256),\n",
    "number int primary key,\n",
    "position_lat real,\n",
    "position_lng real,\n",
    "status varchar(256)\n",
    ")\"\"\"\n",
    "\n",
    "engine.execute(sql)\n"
   ],
   "metadata": {
    "collapsed": false,
    "ExecuteTime": {
     "start_time": "2023-04-18T11:29:45.868135Z",
     "end_time": "2023-04-18T11:29:47.510456Z"
    }
   }
  },
  {
   "cell_type": "code",
   "execution_count": null,
   "outputs": [],
   "source": [
    "# Connect to JCDeaux and pull stations data\n",
    "api_endpoint = \"https://api.jcdecaux.com/vls/v1/stations\"\n",
    "params = {\n",
    "    \"contract\": \"dublin\",\n",
    "    \"apiKey\": \"e58b454e0c21037a669b05e177dd6d3e910eb9fb\"\n",
    "}\n",
    "\n",
    "try:\n",
    "    data_bikes = requests.get(api_endpoint,params=params).json()\n",
    "\n",
    "except requests.exceptions.RequestException as e:\n",
    "    print(e)\n",
    "    sys.exit(1)"
   ],
   "metadata": {
    "collapsed": false
   }
  },
  {
   "cell_type": "code",
   "execution_count": null,
   "outputs": [],
   "source": [
    "# SQL code to insert \n",
    "sql_bikes = \"INSERT IGNORE INTO station (address, banking, bike_stands, \" \\\n",
    "            \"bonus, contract_name, name, number, status, position_lat, position_lng) \" \\\n",
    "            \"VALUES (%s, %s, %s, %s, %s, %s, %s, %s, %s, %s)\"\n"
   ],
   "metadata": {
    "collapsed": false
   }
  },
  {
   "cell_type": "code",
   "execution_count": null,
   "outputs": [],
   "source": [
    "# Iterate through the data response object and perform inserts\n",
    "\n",
    "for i in range(len(data_bikes)):\n",
    "    val = (data_bikes[i][\"address\"], data_bikes[i][\"banking\"], data_bikes[i][\"bike_stands\"],\n",
    "               data_bikes[i][\"bonus\"], data_bikes[i][\"contract_name\"], data_bikes[i][\"name\"], data_bikes[i][\"number\"], data_bikes[i][\"status\"], data_bikes[i]['position']['lat'], data_bikes[i]['position']['lng'] )\n",
    "\n",
    "    engine.execute(sql_bikes, val)\n"
   ],
   "metadata": {
    "collapsed": false
   }
  }
 ],
 "metadata": {
  "kernelspec": {
   "display_name": "Python 3",
   "language": "python",
   "name": "python3"
  },
  "language_info": {
   "codemirror_mode": {
    "name": "ipython",
    "version": 2
   },
   "file_extension": ".py",
   "mimetype": "text/x-python",
   "name": "python",
   "nbconvert_exporter": "python",
   "pygments_lexer": "ipython2",
   "version": "2.7.6"
  }
 },
 "nbformat": 4,
 "nbformat_minor": 0
}
