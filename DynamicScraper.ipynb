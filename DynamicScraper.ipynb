{
 "cells": [
  {
   "cell_type": "code",
   "execution_count": 1,
   "metadata": {
    "collapsed": true,
    "ExecuteTime": {
     "start_time": "2023-04-18T10:56:23.306350Z",
     "end_time": "2023-04-18T10:56:23.479812Z"
    }
   },
   "outputs": [],
   "source": [
    "import requests\n",
    "import json\n",
    "import time\n",
    "import threading\n",
    "import mysql.connector\n",
    "import sys"
   ]
  },
  {
   "cell_type": "code",
   "execution_count": 2,
   "outputs": [],
   "source": [
    "# Setting up the database connection\n",
    "try:\n",
    "    dbbikes = mysql.connector.connect(host=\"dbbikes.cvwut6jnqsvn.us-east-1.rds.amazonaws.com\", user=\"admin\", passwd=\"password\", database=\"dbbikes\")\n",
    "\n",
    "except mysql.connector.Error as error:\n",
    "    print(\"Unable to connect to database: {}\".format(error))\n",
    "    sys.exit(1)"
   ],
   "metadata": {
    "collapsed": false,
    "ExecuteTime": {
     "start_time": "2023-04-18T10:56:23.481808Z",
     "end_time": "2023-04-18T10:56:24.564619Z"
    }
   }
  },
  {
   "cell_type": "code",
   "execution_count": 3,
   "outputs": [],
   "source": [
    "# Get Weather Data from openweathermap API\n",
    "weatherApiKey = \"8989835a2bce4268768202b1dd2b056b\"\n",
    "weather_ID = \"2964574\"\n",
    "weather_url = f\"https://api.openweathermap.org/data/2.5/weather?id={weather_ID}&appid={weatherApiKey}\"\n",
    "try:\n",
    "    weather_request = requests.get(weather_url)\n",
    "    weather_response = weather_request.json()\n",
    "\n",
    "except requests.exceptions.RequestException as e:\n",
    "    print(e)\n",
    "    sys.exit(1)"
   ],
   "metadata": {
    "collapsed": false,
    "ExecuteTime": {
     "start_time": "2023-04-18T10:56:24.570644Z",
     "end_time": "2023-04-18T10:56:24.851602Z"
    }
   }
  },
  {
   "cell_type": "code",
   "execution_count": 4,
   "outputs": [],
   "source": [
    "# Get Bikes Data from JCDeaux API\n",
    "api_endpoint = \"https://api.jcdecaux.com/vls/v1/stations\"\n",
    "params = {\n",
    "    \"contract\": \"dublin\",\n",
    "    \"apiKey\": \"e58b454e0c21037a669b05e177dd6d3e910eb9fb\"\n",
    "}\n",
    "try:\n",
    "    bike_response = requests.get(api_endpoint,params=params).json()\n",
    "\n",
    "except requests.exceptions.RequestException as e:\n",
    "    print(e)\n",
    "    sys.exit(1)"
   ],
   "metadata": {
    "collapsed": false,
    "ExecuteTime": {
     "start_time": "2023-04-18T10:56:24.854593Z",
     "end_time": "2023-04-18T10:56:25.166538Z"
    }
   }
  },
  {
   "cell_type": "markdown",
   "source": [
    "# Insert Bikes Data\n",
    "___"
   ],
   "metadata": {
    "collapsed": false
   }
  },
  {
   "cell_type": "code",
   "execution_count": 5,
   "outputs": [],
   "source": [
    "# Create Bikes Table\n",
    "sql_cursor = dbbikes.cursor()\n",
    "sql_cursor.execute('''CREATE TABLE IF NOT EXISTS Bike (\n",
    "    number INT,\n",
    "    contract_name VARCHAR(255),\n",
    "    name VARCHAR(255),\n",
    "    bike_stands INT,\n",
    "    available_bike_stands INT,\n",
    "    available_bikes INT,\n",
    "    status VARCHAR(255),\n",
    "    last_update TIMESTAMP,\n",
    "    PRIMARY KEY (number, last_update)\n",
    ")''')"
   ],
   "metadata": {
    "collapsed": false,
    "ExecuteTime": {
     "start_time": "2023-04-18T10:56:25.168533Z",
     "end_time": "2023-04-18T10:56:25.389143Z"
    }
   }
  },
  {
   "cell_type": "code",
   "execution_count": 6,
   "outputs": [],
   "source": [
    "# Create Table for Weather\n",
    "sql_cursor.execute('''CREATE TABLE IF NOT EXISTS Weather (coord_lon VARCHAR(255),\n",
    "coord_lat VARCHAR(255),\n",
    "weather_id VARCHAR(255),\n",
    "weather_main VARCHAR(255),\n",
    "weather_description VARCHAR(255),\n",
    "weather_icon VARCHAR(255),\n",
    "weather_base VARCHAR(255) ,\n",
    "main_temp VARCHAR(255),\n",
    "feels_like VARCHAR(255),\n",
    "main_temp_min VARCHAR(255),\n",
    "main_temp_max VARCHAR(255),\n",
    "main_pressure VARCHAR(255),\n",
    "main_humidity VARCHAR(255),\n",
    "main_visibility VARCHAR(255),\n",
    "wind_speed VARCHAR(255),\n",
    "wind_deg VARCHAR(255),\n",
    "clouds_all VARCHAR(255),\n",
    "last_update VARCHAR(255),\n",
    "sys_type VARCHAR(255),\n",
    "sys_id VARCHAR(255),\n",
    "sys_country VARCHAR(255),\n",
    "sys_sunrise VARCHAR(255),\n",
    "sys_sunset VARCHAR(255),\n",
    "city_id VARCHAR(255),\n",
    "city_name VARCHAR(255),\n",
    "cod VARCHAR(255))''')"
   ],
   "metadata": {
    "collapsed": false,
    "ExecuteTime": {
     "start_time": "2023-04-18T10:56:25.397116Z",
     "end_time": "2023-04-18T10:56:25.599162Z"
    }
   }
  },
  {
   "cell_type": "code",
   "execution_count": 7,
   "outputs": [],
   "source": [
    "# Query for inserting Data\n",
    "bike_table = \"INSERT IGNORE INTO Bike(number, contract_name, name, bike_stands, available_bike_stands, \" \\\n",
    "             \"available_bikes, status, last_update) \" \\\n",
    "             \"VALUES (%s, %s, %s, %s, %s, %s, %s, %s)\"\n",
    "\n",
    "weather_table = \"INSERT INTO Weather (coord_lon,coord_lat,weather_id,weather_main,weather_description, \" \\\n",
    "                \"weather_icon, weather_base , main_temp, feels_like , main_temp_min, main_temp_max, main_pressure, main_humidity, main_visibility, \" \\\n",
    "                \"wind_speed,clouds_all, last_update, sys_type, sys_id, sys_country, \" \\\n",
    "                \"sys_sunrise, sys_sunset,city_id,city_name,cod) \" \\\n",
    "                \"VALUES (%s, %s, %s, %s, %s, %s, %s, %s, %s, %s, %s, %s, %s, %s, %s, %s, %s, %s, %s, %s, %s, %s, %s,%s,%s)\""
   ],
   "metadata": {
    "collapsed": false,
    "ExecuteTime": {
     "start_time": "2023-04-18T10:56:25.603117Z",
     "end_time": "2023-04-18T10:56:25.615084Z"
    }
   }
  },
  {
   "cell_type": "markdown",
   "source": [
    "# Insert Data by iterating through API responses\n",
    "___"
   ],
   "metadata": {
    "collapsed": false
   }
  },
  {
   "cell_type": "code",
   "execution_count": 8,
   "outputs": [],
   "source": [
    "try:\n",
    "    sql_cursor = dbbikes.cursor()\n",
    "\n",
    "    # Iterate through the data response object and perform inserts\n",
    "    for i in range(len(bike_response)):\n",
    "        Bike_data = (bike_response[i][\"number\"], bike_response[i][\"contract_name\"], bike_response[i][\"name\"],\n",
    "                     bike_response[i][\"bike_stands\"], bike_response[i][\"available_bike_stands\"],\n",
    "                     bike_response[i][\"available_bikes\"], bike_response[i][\"status\"],\n",
    "                     time.strftime('%Y-%m-%d %H:%M:%S', time.localtime(bike_response[i][\"last_update\"] / 1000)))\n",
    "        sql_cursor.execute(bike_table, Bike_data)\n",
    "\n",
    "    Weather_data =(weather_response['coord']['lon'], weather_response['coord']['lat'], weather_response['weather'][0]['id'],\n",
    "                   weather_response['weather'][0]['main'], weather_response['weather'][0]['description'],\n",
    "                   weather_response['weather'][0]['icon'],\n",
    "                   weather_response['base'], weather_response['main']['temp'], weather_response['main']['feels_like'],\n",
    "                   weather_response['main']['temp_min'], weather_response['main']['temp_max'], weather_response['main']['pressure'],\n",
    "                   weather_response['main']['humidity'], weather_response['visibility'], weather_response['wind']['speed'],\n",
    "                   weather_response['clouds']['all'], time.strftime('%Y-%m-%d %H:%M:%S', time.localtime(weather_response['dt'])), weather_response['sys']['type'],\n",
    "                   weather_response['sys']['id'], weather_response['sys']['country'], time.strftime('%Y-%m-%d %H:%M:%S', time.localtime(weather_response['sys']['sunrise'])),\n",
    "                   time.strftime('%Y-%m-%d %H:%M:%S', time.localtime(weather_response['sys']['sunset'])), weather_response['id'], weather_response['name'], weather_response['cod'])\n",
    "\n",
    "    sql_cursor.execute(weather_table, Weather_data)\n",
    "\n",
    "    dbbikes.commit()\n",
    "    dbbikes.close()\n",
    "\n",
    "except mysql.connector.Error as error:\n",
    "    print(\"Connection to the database failed: {}\".format(error))\n",
    "    sys.exit(1)\n"
   ],
   "metadata": {
    "collapsed": false,
    "ExecuteTime": {
     "start_time": "2023-04-18T10:56:25.767677Z",
     "end_time": "2023-04-18T10:56:37.758456Z"
    }
   }
  }
 ],
 "metadata": {
  "kernelspec": {
   "display_name": "Python 3",
   "language": "python",
   "name": "python3"
  },
  "language_info": {
   "codemirror_mode": {
    "name": "ipython",
    "version": 2
   },
   "file_extension": ".py",
   "mimetype": "text/x-python",
   "name": "python",
   "nbconvert_exporter": "python",
   "pygments_lexer": "ipython2",
   "version": "2.7.6"
  }
 },
 "nbformat": 4,
 "nbformat_minor": 0
}
