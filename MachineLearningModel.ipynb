{
 "cells": [
  {
   "cell_type": "code",
   "execution_count": 26,
   "metadata": {
    "collapsed": true,
    "ExecuteTime": {
     "start_time": "2023-04-20T18:02:00.706482Z",
     "end_time": "2023-04-20T18:02:00.828165Z"
    }
   },
   "outputs": [],
   "source": [
    "# Import necessary dependencies\n",
    "import pandas as pd\n",
    "from sqlalchemy import create_engine, text\n",
    "from sklearn import metrics\n",
    "import pickle\n",
    "import numpy as np\n",
    "from sklearn import metrics\n",
    "from sklearn.ensemble import RandomForestRegressor\n",
    "from sklearn.model_selection import train_test_split\n",
    "import pymysql\n",
    "\n",
    "from sklearn.linear_model import LinearRegression"
   ]
  },
  {
   "cell_type": "code",
   "execution_count": 27,
   "outputs": [],
   "source": [
    "URL = \"dbbikes.cvwut6jnqsvn.us-east-1.rds.amazonaws.com\"\n",
    "PORT = \"3306\"\n",
    "DB = \"dbbikes\"\n",
    "USER = \"admin\"\n",
    "PASSWORD = \"password\""
   ],
   "metadata": {
    "collapsed": false,
    "ExecuteTime": {
     "start_time": "2023-04-20T18:02:00.719683Z",
     "end_time": "2023-04-20T18:02:00.989041Z"
    }
   }
  },
  {
   "cell_type": "code",
   "execution_count": 28,
   "outputs": [],
   "source": [
    "engine = create_engine(f\"mysql+pymysql://{USER}:{PASSWORD}@{URL}:{PORT}/{DB}\",echo = True)"
   ],
   "metadata": {
    "collapsed": false,
    "ExecuteTime": {
     "start_time": "2023-04-20T18:02:00.731687Z",
     "end_time": "2023-04-20T18:02:00.992034Z"
    }
   }
  },
  {
   "cell_type": "markdown",
   "source": [
    "# Weather Data Preparation\n",
    "___"
   ],
   "metadata": {
    "collapsed": false
   }
  },
  {
   "cell_type": "code",
   "execution_count": 29,
   "outputs": [
    {
     "name": "stdout",
     "output_type": "stream",
     "text": [
      "2023-04-20 18:02:01,316 INFO sqlalchemy.engine.Engine SELECT DATABASE()\n",
      "2023-04-20 18:02:01,317 INFO sqlalchemy.engine.Engine [raw sql] {}\n",
      "2023-04-20 18:02:01,499 INFO sqlalchemy.engine.Engine SELECT @@sql_mode\n",
      "2023-04-20 18:02:01,500 INFO sqlalchemy.engine.Engine [raw sql] {}\n",
      "2023-04-20 18:02:01,592 INFO sqlalchemy.engine.Engine SELECT @@lower_case_table_names\n",
      "2023-04-20 18:02:01,594 INFO sqlalchemy.engine.Engine [raw sql] {}\n",
      "2023-04-20 18:02:01,777 INFO sqlalchemy.engine.Engine BEGIN (implicit)\n",
      "2023-04-20 18:02:01,779 INFO sqlalchemy.engine.Engine SELECT * FROM dbbikes.Weather;\n",
      "2023-04-20 18:02:01,784 INFO sqlalchemy.engine.Engine [generated in 0.00754s] {}\n"
     ]
    }
   ],
   "source": [
    "# create dataframe of weatherData\n",
    "query = \"SELECT * FROM dbbikes.Weather;\"\n",
    "dfWeather = pd.DataFrame(engine.connect().execute(text(query)))\n",
    "dfWeather[\"last_update\"] = pd.to_datetime(dfWeather.last_update) #change last_update feature to datetime type"
   ],
   "metadata": {
    "collapsed": false,
    "ExecuteTime": {
     "start_time": "2023-04-20T18:02:00.752717Z",
     "end_time": "2023-04-20T18:02:02.716572Z"
    }
   }
  },
  {
   "cell_type": "code",
   "execution_count": 30,
   "outputs": [
    {
     "data": {
      "text/plain": "     coord_lon coord_lat weather_id weather_main weather_description  \\\n4186   -6.2672    53.344        801       Clouds          few clouds   \n4187   -6.2672    53.344        801       Clouds          few clouds   \n4188   -6.2672    53.344        801       Clouds          few clouds   \n4189   -6.2672    53.344        801       Clouds          few clouds   \n4190   -6.2672    53.344        801       Clouds          few clouds   \n\n     weather_icon weather_base main_temp feels_like main_temp_min  ...  \\\n4186          02d     stations    284.92     283.93        284.03  ...   \n4187          02d     stations    285.21     284.19        284.75  ...   \n4188          02d     stations    285.29     284.28        284.75  ...   \n4189          02d     stations    285.29     284.28        284.75  ...   \n4190          02d     stations    285.29     284.28        284.75  ...   \n\n     clouds_all         last_update sys_type   sys_id sys_country  \\\n4186         20 2023-04-20 17:35:10        2  2037117          IE   \n4187         20 2023-04-20 17:45:00        2  2037117          IE   \n4188         20 2023-04-20 17:47:40        2  2037117          IE   \n4189         20 2023-04-20 17:50:03        2  2037117          IE   \n4190         20 2023-04-20 17:56:13        2  2037117          IE   \n\n              sys_sunrise           sys_sunset  city_id city_name  cod  \n4186  2023-04-20 06:14:57  2023-04-20 20:32:46  2964574    Dublin  200  \n4187  2023-04-20 06:14:57  2023-04-20 20:32:46  2964574    Dublin  200  \n4188  2023-04-20 06:14:57  2023-04-20 20:32:46  2964574    Dublin  200  \n4189  2023-04-20 06:14:57  2023-04-20 20:32:46  2964574    Dublin  200  \n4190  2023-04-20 06:14:57  2023-04-20 20:32:46  2964574    Dublin  200  \n\n[5 rows x 26 columns]",
      "text/html": "<div>\n<style scoped>\n    .dataframe tbody tr th:only-of-type {\n        vertical-align: middle;\n    }\n\n    .dataframe tbody tr th {\n        vertical-align: top;\n    }\n\n    .dataframe thead th {\n        text-align: right;\n    }\n</style>\n<table border=\"1\" class=\"dataframe\">\n  <thead>\n    <tr style=\"text-align: right;\">\n      <th></th>\n      <th>coord_lon</th>\n      <th>coord_lat</th>\n      <th>weather_id</th>\n      <th>weather_main</th>\n      <th>weather_description</th>\n      <th>weather_icon</th>\n      <th>weather_base</th>\n      <th>main_temp</th>\n      <th>feels_like</th>\n      <th>main_temp_min</th>\n      <th>...</th>\n      <th>clouds_all</th>\n      <th>last_update</th>\n      <th>sys_type</th>\n      <th>sys_id</th>\n      <th>sys_country</th>\n      <th>sys_sunrise</th>\n      <th>sys_sunset</th>\n      <th>city_id</th>\n      <th>city_name</th>\n      <th>cod</th>\n    </tr>\n  </thead>\n  <tbody>\n    <tr>\n      <th>4186</th>\n      <td>-6.2672</td>\n      <td>53.344</td>\n      <td>801</td>\n      <td>Clouds</td>\n      <td>few clouds</td>\n      <td>02d</td>\n      <td>stations</td>\n      <td>284.92</td>\n      <td>283.93</td>\n      <td>284.03</td>\n      <td>...</td>\n      <td>20</td>\n      <td>2023-04-20 17:35:10</td>\n      <td>2</td>\n      <td>2037117</td>\n      <td>IE</td>\n      <td>2023-04-20 06:14:57</td>\n      <td>2023-04-20 20:32:46</td>\n      <td>2964574</td>\n      <td>Dublin</td>\n      <td>200</td>\n    </tr>\n    <tr>\n      <th>4187</th>\n      <td>-6.2672</td>\n      <td>53.344</td>\n      <td>801</td>\n      <td>Clouds</td>\n      <td>few clouds</td>\n      <td>02d</td>\n      <td>stations</td>\n      <td>285.21</td>\n      <td>284.19</td>\n      <td>284.75</td>\n      <td>...</td>\n      <td>20</td>\n      <td>2023-04-20 17:45:00</td>\n      <td>2</td>\n      <td>2037117</td>\n      <td>IE</td>\n      <td>2023-04-20 06:14:57</td>\n      <td>2023-04-20 20:32:46</td>\n      <td>2964574</td>\n      <td>Dublin</td>\n      <td>200</td>\n    </tr>\n    <tr>\n      <th>4188</th>\n      <td>-6.2672</td>\n      <td>53.344</td>\n      <td>801</td>\n      <td>Clouds</td>\n      <td>few clouds</td>\n      <td>02d</td>\n      <td>stations</td>\n      <td>285.29</td>\n      <td>284.28</td>\n      <td>284.75</td>\n      <td>...</td>\n      <td>20</td>\n      <td>2023-04-20 17:47:40</td>\n      <td>2</td>\n      <td>2037117</td>\n      <td>IE</td>\n      <td>2023-04-20 06:14:57</td>\n      <td>2023-04-20 20:32:46</td>\n      <td>2964574</td>\n      <td>Dublin</td>\n      <td>200</td>\n    </tr>\n    <tr>\n      <th>4189</th>\n      <td>-6.2672</td>\n      <td>53.344</td>\n      <td>801</td>\n      <td>Clouds</td>\n      <td>few clouds</td>\n      <td>02d</td>\n      <td>stations</td>\n      <td>285.29</td>\n      <td>284.28</td>\n      <td>284.75</td>\n      <td>...</td>\n      <td>20</td>\n      <td>2023-04-20 17:50:03</td>\n      <td>2</td>\n      <td>2037117</td>\n      <td>IE</td>\n      <td>2023-04-20 06:14:57</td>\n      <td>2023-04-20 20:32:46</td>\n      <td>2964574</td>\n      <td>Dublin</td>\n      <td>200</td>\n    </tr>\n    <tr>\n      <th>4190</th>\n      <td>-6.2672</td>\n      <td>53.344</td>\n      <td>801</td>\n      <td>Clouds</td>\n      <td>few clouds</td>\n      <td>02d</td>\n      <td>stations</td>\n      <td>285.29</td>\n      <td>284.28</td>\n      <td>284.75</td>\n      <td>...</td>\n      <td>20</td>\n      <td>2023-04-20 17:56:13</td>\n      <td>2</td>\n      <td>2037117</td>\n      <td>IE</td>\n      <td>2023-04-20 06:14:57</td>\n      <td>2023-04-20 20:32:46</td>\n      <td>2964574</td>\n      <td>Dublin</td>\n      <td>200</td>\n    </tr>\n  </tbody>\n</table>\n<p>5 rows × 26 columns</p>\n</div>"
     },
     "execution_count": 30,
     "metadata": {},
     "output_type": "execute_result"
    }
   ],
   "source": [
    "dfWeather.tail()"
   ],
   "metadata": {
    "collapsed": false,
    "ExecuteTime": {
     "start_time": "2023-04-20T18:02:02.718197Z",
     "end_time": "2023-04-20T18:02:02.835698Z"
    }
   }
  },
  {
   "cell_type": "code",
   "execution_count": 31,
   "outputs": [],
   "source": [
    "# Select categorical columns\n",
    "categorical_columns = dfWeather[['weather_main', 'weather_description', 'weather_icon', 'weather_base']].columns\n",
    "\n",
    "# Convert data type to category for these columns\n",
    "for column in categorical_columns:\n",
    "    dfWeather[column] = dfWeather[column].astype('object')"
   ],
   "metadata": {
    "collapsed": false,
    "ExecuteTime": {
     "start_time": "2023-04-20T18:02:02.805998Z",
     "end_time": "2023-04-20T18:02:02.904867Z"
    }
   }
  },
  {
   "cell_type": "code",
   "execution_count": 32,
   "outputs": [],
   "source": [
    "# Select columns that should be floats\n",
    "float_columns = dfWeather[['coord_lon', 'coord_lat', 'main_temp', 'feels_like',\"main_temp_min\",\"wind_speed\",\n",
    "                    \"main_temp_max\",]].columns\n",
    "# Convert data type to floats\n",
    "for column in float_columns:\n",
    "    dfWeather[column] = dfWeather[column].astype('float64')\n",
    "\n",
    "# Select data types that should be integers\n",
    "int_columns=dfWeather[['weather_id', 'main_pressure', 'main_humidity', 'main_visibility',\"clouds_all\",]].columns\n",
    "\n",
    "for column in int_columns:\n",
    "    dfWeather[column] = dfWeather[column].astype('int64')\n"
   ],
   "metadata": {
    "collapsed": false,
    "ExecuteTime": {
     "start_time": "2023-04-20T18:02:02.872491Z",
     "end_time": "2023-04-20T18:02:03.166968Z"
    }
   }
  },
  {
   "cell_type": "code",
   "execution_count": 33,
   "outputs": [],
   "source": [
    "# Select only important Weather features\n",
    "dfWeather = dfWeather[[\"weather_description\",\"main_temp\",\"main_humidity\",'wind_speed',\"last_update\"]]"
   ],
   "metadata": {
    "collapsed": false,
    "ExecuteTime": {
     "start_time": "2023-04-20T18:02:03.010796Z",
     "end_time": "2023-04-20T18:02:03.166968Z"
    }
   }
  },
  {
   "cell_type": "code",
   "execution_count": 34,
   "outputs": [],
   "source": [
    "dfWeather.sort_values('last_update', inplace = True)"
   ],
   "metadata": {
    "collapsed": false,
    "ExecuteTime": {
     "start_time": "2023-04-20T18:02:03.043066Z",
     "end_time": "2023-04-20T18:02:03.167965Z"
    }
   }
  },
  {
   "cell_type": "markdown",
   "source": [
    "# Bikes Data Preparation\n",
    "___"
   ],
   "metadata": {
    "collapsed": false
   }
  },
  {
   "cell_type": "code",
   "execution_count": 36,
   "outputs": [
    {
     "name": "stdout",
     "output_type": "stream",
     "text": [
      "2023-04-20 18:02:38,453 INFO sqlalchemy.engine.Engine BEGIN (implicit)\n",
      "2023-04-20 18:02:38,488 INFO sqlalchemy.engine.Engine SELECT * FROM dbbikes.Bike;\n",
      "2023-04-20 18:02:38,491 INFO sqlalchemy.engine.Engine [generated in 0.03775s] {}\n"
     ]
    }
   ],
   "source": [
    "query = \"SELECT * FROM dbbikes.Bike;\"\n",
    "dfBikes = pd.DataFrame(engine.connect().execute(text(query)))\n",
    "dfBikes[\"last_update\"] = pd.to_datetime(dfBikes.last_update)\n",
    "# Select continuous values and change to appropriate type\n",
    "dfBikes.sort_values('last_update', inplace = True)"
   ],
   "metadata": {
    "collapsed": false,
    "ExecuteTime": {
     "start_time": "2023-04-20T18:02:37.939025Z",
     "end_time": "2023-04-20T18:02:50.287818Z"
    }
   }
  },
  {
   "cell_type": "code",
   "execution_count": 37,
   "outputs": [
    {
     "data": {
      "text/plain": "number                            int64\ncontract_name                    object\nname                             object\nbike_stands                       int64\navailable_bike_stands             int64\navailable_bikes                   int64\nstatus                           object\nlast_update              datetime64[ns]\ndtype: object"
     },
     "execution_count": 37,
     "metadata": {},
     "output_type": "execute_result"
    }
   ],
   "source": [
    "dfBikes.dtypes"
   ],
   "metadata": {
    "collapsed": false,
    "ExecuteTime": {
     "start_time": "2023-04-20T18:02:54.260610Z",
     "end_time": "2023-04-20T18:02:54.347344Z"
    }
   }
  },
  {
   "cell_type": "markdown",
   "source": [
    "#Merging the two Dataframes\n",
    "___"
   ],
   "metadata": {
    "collapsed": false
   }
  },
  {
   "cell_type": "code",
   "execution_count": 38,
   "outputs": [],
   "source": [
    "dfMerged = pd.merge_asof(dfBikes,dfWeather,on=\"last_update\",direction=\"nearest\")"
   ],
   "metadata": {
    "collapsed": false,
    "ExecuteTime": {
     "start_time": "2023-04-20T18:02:55.927591Z",
     "end_time": "2023-04-20T18:02:56.093439Z"
    }
   }
  },
  {
   "cell_type": "code",
   "execution_count": 39,
   "outputs": [],
   "source": [
    "df = dfMerged.drop([\"contract_name\",\"name\",\"status\"],axis=1)"
   ],
   "metadata": {
    "collapsed": false,
    "ExecuteTime": {
     "start_time": "2023-04-20T18:02:56.689620Z",
     "end_time": "2023-04-20T18:02:56.739793Z"
    }
   }
  },
  {
   "cell_type": "code",
   "execution_count": 40,
   "outputs": [],
   "source": [
    "df['month'] = df['last_update'].dt.month\n",
    "df['dayofweek'] = df['last_update'].dt.dayofweek\n",
    "df['hour'] = df['last_update'].dt.hour\n",
    "df['minute'] = df['last_update'].dt.minute"
   ],
   "metadata": {
    "collapsed": false,
    "ExecuteTime": {
     "start_time": "2023-04-20T18:02:57.183669Z",
     "end_time": "2023-04-20T18:02:57.338806Z"
    }
   }
  },
  {
   "cell_type": "code",
   "execution_count": 41,
   "outputs": [
    {
     "data": {
      "text/plain": "number                            int64\nbike_stands                       int64\navailable_bike_stands             int64\navailable_bikes                   int64\nlast_update              datetime64[ns]\nweather_description              object\nmain_temp                       float64\nmain_humidity                     int64\nwind_speed                      float64\nmonth                             int64\ndayofweek                         int64\nhour                              int64\nminute                            int64\ndtype: object"
     },
     "execution_count": 41,
     "metadata": {},
     "output_type": "execute_result"
    }
   ],
   "source": [
    "df.dtypes\n"
   ],
   "metadata": {
    "collapsed": false,
    "ExecuteTime": {
     "start_time": "2023-04-20T18:02:57.829025Z",
     "end_time": "2023-04-20T18:02:57.879435Z"
    }
   }
  },
  {
   "cell_type": "code",
   "execution_count": 42,
   "outputs": [
    {
     "data": {
      "text/plain": "        number  bike_stands  available_bike_stands  available_bikes  \\\n312449      88           30                     12               18   \n312450      30           20                     13                7   \n312451      36           40                     37                3   \n312452      42           30                     14               16   \n312453      21           30                      2               28   \n...        ...          ...                    ...              ...   \n313444       7           29                     29                0   \n313445      91           30                     12               18   \n313446      86           38                      0               38   \n313447      24           20                      4               16   \n313448      58           40                     12               28   \n\n               last_update weather_description  main_temp  main_humidity  \\\n312449 2023-04-20 17:05:12          few clouds     285.30             65   \n312450 2023-04-20 17:05:15          few clouds     285.30             65   \n312451 2023-04-20 17:05:17          few clouds     285.30             65   \n312452 2023-04-20 17:05:25          few clouds     285.30             65   \n312453 2023-04-20 17:05:25          few clouds     285.30             65   \n...                    ...                 ...        ...            ...   \n313444 2023-04-20 17:59:49          few clouds     285.29             66   \n313445 2023-04-20 17:59:49          few clouds     285.29             66   \n313446 2023-04-20 17:59:50          few clouds     285.29             66   \n313447 2023-04-20 17:59:50          few clouds     285.29             66   \n313448 2023-04-20 17:59:52          few clouds     285.29             66   \n\n        wind_speed  month  dayofweek  hour  minute  \n312449        8.75      4          3    17       5  \n312450        8.75      4          3    17       5  \n312451        8.75      4          3    17       5  \n312452        8.75      4          3    17       5  \n312453        8.75      4          3    17       5  \n...            ...    ...        ...   ...     ...  \n313444        7.72      4          3    17      59  \n313445        7.72      4          3    17      59  \n313446        7.72      4          3    17      59  \n313447        7.72      4          3    17      59  \n313448        7.72      4          3    17      59  \n\n[1000 rows x 13 columns]",
      "text/html": "<div>\n<style scoped>\n    .dataframe tbody tr th:only-of-type {\n        vertical-align: middle;\n    }\n\n    .dataframe tbody tr th {\n        vertical-align: top;\n    }\n\n    .dataframe thead th {\n        text-align: right;\n    }\n</style>\n<table border=\"1\" class=\"dataframe\">\n  <thead>\n    <tr style=\"text-align: right;\">\n      <th></th>\n      <th>number</th>\n      <th>bike_stands</th>\n      <th>available_bike_stands</th>\n      <th>available_bikes</th>\n      <th>last_update</th>\n      <th>weather_description</th>\n      <th>main_temp</th>\n      <th>main_humidity</th>\n      <th>wind_speed</th>\n      <th>month</th>\n      <th>dayofweek</th>\n      <th>hour</th>\n      <th>minute</th>\n    </tr>\n  </thead>\n  <tbody>\n    <tr>\n      <th>312449</th>\n      <td>88</td>\n      <td>30</td>\n      <td>12</td>\n      <td>18</td>\n      <td>2023-04-20 17:05:12</td>\n      <td>few clouds</td>\n      <td>285.30</td>\n      <td>65</td>\n      <td>8.75</td>\n      <td>4</td>\n      <td>3</td>\n      <td>17</td>\n      <td>5</td>\n    </tr>\n    <tr>\n      <th>312450</th>\n      <td>30</td>\n      <td>20</td>\n      <td>13</td>\n      <td>7</td>\n      <td>2023-04-20 17:05:15</td>\n      <td>few clouds</td>\n      <td>285.30</td>\n      <td>65</td>\n      <td>8.75</td>\n      <td>4</td>\n      <td>3</td>\n      <td>17</td>\n      <td>5</td>\n    </tr>\n    <tr>\n      <th>312451</th>\n      <td>36</td>\n      <td>40</td>\n      <td>37</td>\n      <td>3</td>\n      <td>2023-04-20 17:05:17</td>\n      <td>few clouds</td>\n      <td>285.30</td>\n      <td>65</td>\n      <td>8.75</td>\n      <td>4</td>\n      <td>3</td>\n      <td>17</td>\n      <td>5</td>\n    </tr>\n    <tr>\n      <th>312452</th>\n      <td>42</td>\n      <td>30</td>\n      <td>14</td>\n      <td>16</td>\n      <td>2023-04-20 17:05:25</td>\n      <td>few clouds</td>\n      <td>285.30</td>\n      <td>65</td>\n      <td>8.75</td>\n      <td>4</td>\n      <td>3</td>\n      <td>17</td>\n      <td>5</td>\n    </tr>\n    <tr>\n      <th>312453</th>\n      <td>21</td>\n      <td>30</td>\n      <td>2</td>\n      <td>28</td>\n      <td>2023-04-20 17:05:25</td>\n      <td>few clouds</td>\n      <td>285.30</td>\n      <td>65</td>\n      <td>8.75</td>\n      <td>4</td>\n      <td>3</td>\n      <td>17</td>\n      <td>5</td>\n    </tr>\n    <tr>\n      <th>...</th>\n      <td>...</td>\n      <td>...</td>\n      <td>...</td>\n      <td>...</td>\n      <td>...</td>\n      <td>...</td>\n      <td>...</td>\n      <td>...</td>\n      <td>...</td>\n      <td>...</td>\n      <td>...</td>\n      <td>...</td>\n      <td>...</td>\n    </tr>\n    <tr>\n      <th>313444</th>\n      <td>7</td>\n      <td>29</td>\n      <td>29</td>\n      <td>0</td>\n      <td>2023-04-20 17:59:49</td>\n      <td>few clouds</td>\n      <td>285.29</td>\n      <td>66</td>\n      <td>7.72</td>\n      <td>4</td>\n      <td>3</td>\n      <td>17</td>\n      <td>59</td>\n    </tr>\n    <tr>\n      <th>313445</th>\n      <td>91</td>\n      <td>30</td>\n      <td>12</td>\n      <td>18</td>\n      <td>2023-04-20 17:59:49</td>\n      <td>few clouds</td>\n      <td>285.29</td>\n      <td>66</td>\n      <td>7.72</td>\n      <td>4</td>\n      <td>3</td>\n      <td>17</td>\n      <td>59</td>\n    </tr>\n    <tr>\n      <th>313446</th>\n      <td>86</td>\n      <td>38</td>\n      <td>0</td>\n      <td>38</td>\n      <td>2023-04-20 17:59:50</td>\n      <td>few clouds</td>\n      <td>285.29</td>\n      <td>66</td>\n      <td>7.72</td>\n      <td>4</td>\n      <td>3</td>\n      <td>17</td>\n      <td>59</td>\n    </tr>\n    <tr>\n      <th>313447</th>\n      <td>24</td>\n      <td>20</td>\n      <td>4</td>\n      <td>16</td>\n      <td>2023-04-20 17:59:50</td>\n      <td>few clouds</td>\n      <td>285.29</td>\n      <td>66</td>\n      <td>7.72</td>\n      <td>4</td>\n      <td>3</td>\n      <td>17</td>\n      <td>59</td>\n    </tr>\n    <tr>\n      <th>313448</th>\n      <td>58</td>\n      <td>40</td>\n      <td>12</td>\n      <td>28</td>\n      <td>2023-04-20 17:59:52</td>\n      <td>few clouds</td>\n      <td>285.29</td>\n      <td>66</td>\n      <td>7.72</td>\n      <td>4</td>\n      <td>3</td>\n      <td>17</td>\n      <td>59</td>\n    </tr>\n  </tbody>\n</table>\n<p>1000 rows × 13 columns</p>\n</div>"
     },
     "execution_count": 42,
     "metadata": {},
     "output_type": "execute_result"
    }
   ],
   "source": [
    "df.tail(1000)\n"
   ],
   "metadata": {
    "collapsed": false,
    "ExecuteTime": {
     "start_time": "2023-04-20T18:02:58.043370Z",
     "end_time": "2023-04-20T18:02:58.151543Z"
    }
   }
  },
  {
   "cell_type": "code",
   "execution_count": 43,
   "outputs": [
    {
     "data": {
      "text/plain": "number                            int64\nbike_stands                       int64\navailable_bike_stands             int64\navailable_bikes                   int64\nlast_update              datetime64[ns]\nweather_description              object\nmain_temp                       float64\nmain_humidity                     int64\nwind_speed                      float64\nmonth                             int64\ndayofweek                         int64\nhour                              int64\nminute                            int64\ndtype: object"
     },
     "execution_count": 43,
     "metadata": {},
     "output_type": "execute_result"
    }
   ],
   "source": [
    "df.to_csv(\"mergedData.csv\")\n",
    "df.dtypes"
   ],
   "metadata": {
    "collapsed": false,
    "ExecuteTime": {
     "start_time": "2023-04-20T18:02:58.307302Z",
     "end_time": "2023-04-20T18:03:02.554690Z"
    }
   }
  },
  {
   "cell_type": "markdown",
   "source": [
    "# Training Data Model\n",
    "___"
   ],
   "metadata": {
    "collapsed": false
   }
  },
  {
   "cell_type": "code",
   "execution_count": 44,
   "outputs": [],
   "source": [
    "# Transform weather description to integers\n",
    "from sklearn import preprocessing\n",
    "label_encoder = preprocessing.LabelEncoder()\n",
    "# Get the unique values in the 'weather_description' column\n",
    "unique_values = df['weather_description'].unique()\n",
    "\n",
    "df['weather_description'] = label_encoder.fit_transform(df['weather_description'])"
   ],
   "metadata": {
    "collapsed": false,
    "ExecuteTime": {
     "start_time": "2023-04-20T18:03:02.554690Z",
     "end_time": "2023-04-20T18:03:02.752223Z"
    }
   }
  },
  {
   "cell_type": "code",
   "execution_count": 45,
   "outputs": [],
   "source": [
    "# Get the corresponding numerical labels for the unique values\n",
    "numerical_labels = label_encoder.transform(unique_values)\n",
    "\n",
    "# Create a dictionary of features and their encoded numerical data\n",
    "feature_dict = {}\n",
    "for i in range(len(unique_values)):\n",
    "    feature_dict[unique_values[i]] = numerical_labels[i]"
   ],
   "metadata": {
    "collapsed": false,
    "ExecuteTime": {
     "start_time": "2023-04-20T18:03:02.757725Z",
     "end_time": "2023-04-20T18:03:02.766629Z"
    }
   }
  },
  {
   "cell_type": "code",
   "execution_count": 46,
   "outputs": [
    {
     "data": {
      "text/plain": "{'broken clouds': 0,\n 'light rain': 8,\n 'scattered clouds': 13,\n 'light intensity shower rain': 7,\n 'light intensity drizzle': 5,\n 'mist': 9,\n 'light intensity drizzle rain': 6,\n 'moderate rain': 10,\n 'overcast clouds': 11,\n 'clear sky': 1,\n 'few clouds': 2,\n 'heavy intensity rain': 4,\n 'ragged shower rain': 12,\n 'fog': 3}"
     },
     "execution_count": 46,
     "metadata": {},
     "output_type": "execute_result"
    }
   ],
   "source": [
    "feature_dict"
   ],
   "metadata": {
    "collapsed": false,
    "ExecuteTime": {
     "start_time": "2023-04-20T18:03:02.774934Z",
     "end_time": "2023-04-20T18:03:02.809942Z"
    }
   }
  },
  {
   "cell_type": "code",
   "execution_count": 47,
   "outputs": [
    {
     "data": {
      "text/plain": "number                            int64\nbike_stands                       int64\navailable_bike_stands             int64\navailable_bikes                   int64\nlast_update              datetime64[ns]\nweather_description               int32\nmain_temp                       float64\nmain_humidity                     int64\nwind_speed                      float64\nmonth                             int64\ndayofweek                         int64\nhour                              int64\nminute                            int64\ndtype: object"
     },
     "execution_count": 47,
     "metadata": {},
     "output_type": "execute_result"
    }
   ],
   "source": [
    "df.dtypes\n"
   ],
   "metadata": {
    "collapsed": false,
    "ExecuteTime": {
     "start_time": "2023-04-20T18:03:02.803951Z",
     "end_time": "2023-04-20T18:03:02.838987Z"
    }
   }
  },
  {
   "cell_type": "code",
   "execution_count": null,
   "outputs": [],
   "source": [
    "df = df.drop(\"last_update\",1)"
   ],
   "metadata": {
    "collapsed": false,
    "ExecuteTime": {
     "start_time": "2023-04-16T16:12:03.735830Z",
     "end_time": "2023-04-16T16:12:03.775266Z"
    }
   }
  },
  {
   "cell_type": "code",
   "execution_count": null,
   "outputs": [],
   "source": [
    "input_features = ['number','hour','minute','month','weather_description','main_temp', 'main_humidity', 'wind_speed','dayofweek']"
   ],
   "metadata": {
    "collapsed": false,
    "ExecuteTime": {
     "start_time": "2023-04-16T16:12:03.765284Z",
     "end_time": "2023-04-16T16:12:03.797213Z"
    }
   }
  },
  {
   "cell_type": "code",
   "execution_count": null,
   "outputs": [],
   "source": [
    "input = df[input_features]\n",
    "target = df[[\"available_bikes\",'dayofweek']]"
   ],
   "metadata": {
    "collapsed": false,
    "ExecuteTime": {
     "start_time": "2023-04-16T16:12:03.780255Z",
     "end_time": "2023-04-16T16:12:03.866414Z"
    }
   }
  },
  {
   "cell_type": "code",
   "execution_count": null,
   "outputs": [],
   "source": [
    "X = input\n",
    "Y = target.available_bikes\n",
    "X_train, X_test,Y_train,Y_test = train_test_split(X, Y, test_size=0.3,random_state=0)\n",
    "regressor = RandomForestRegressor(n_estimators=15)\n",
    "regressor.fit(X_train, Y_train)\n",
    "\n",
    "# Write to a pickle file\n",
    "with open('bike_predictor.pkl', 'wb') as handle:\n",
    "    pickle.dump(regressor, handle, pickle.HIGHEST_PROTOCOL)\n",
    "\n",
    "\n",
    "y_pred = regressor.predict(X_test)\n",
    "df = pd.DataFrame({'Actual': Y_test, 'Predicted': y_pred})\n",
    "\n",
    "print('Test Set Predictions for Station: ')\n",
    "print(df)\n",
    "print()\n",
    "\n",
    "#Accuracy score\n",
    "print('Mean Absolute Error:', metrics.mean_absolute_error(Y_test, y_pred))\n",
    "print('Mean Squared Error:', metrics.mean_squared_error(Y_test, y_pred))\n",
    "print('Root Mean Squared Error:', np.sqrt(metrics.mean_squared_error(Y_test, y_pred)))\n",
    "print (\"The accuracy score : \",metrics.r2_score(Y_test, y_pred))\n"
   ],
   "metadata": {
    "collapsed": false,
    "ExecuteTime": {
     "start_time": "2023-04-16T16:12:03.831508Z",
     "end_time": "2023-04-16T16:12:14.427624Z"
    }
   }
  },
  {
   "cell_type": "markdown",
   "source": [
    "# Testing PKL file\n",
    "___"
   ],
   "metadata": {
    "collapsed": false
   }
  },
  {
   "cell_type": "code",
   "execution_count": null,
   "outputs": [],
   "source": [
    "row = [0]*9"
   ],
   "metadata": {
    "collapsed": false,
    "ExecuteTime": {
     "start_time": "2023-04-16T16:12:14.431644Z",
     "end_time": "2023-04-16T16:12:14.473112Z"
    }
   }
  },
  {
   "cell_type": "code",
   "execution_count": null,
   "outputs": [],
   "source": [
    "x_testing = pd.DataFrame([row],columns=input_features)\n"
   ],
   "metadata": {
    "collapsed": false,
    "ExecuteTime": {
     "start_time": "2023-04-16T16:12:14.447101Z",
     "end_time": "2023-04-16T16:12:14.490129Z"
    }
   }
  },
  {
   "cell_type": "code",
   "execution_count": null,
   "outputs": [],
   "source": [
    "inputData = {'number':12,'hour': 10,'minute':30,'month': 4, 'weather_description': 3, 'main_temp': 279.60, 'main_humidity': 1025, 'wind_speed': 6.6, 'dayofweek': 3}"
   ],
   "metadata": {
    "collapsed": false,
    "ExecuteTime": {
     "start_time": "2023-04-16T16:12:14.462060Z",
     "end_time": "2023-04-16T16:12:14.491127Z"
    }
   }
  },
  {
   "cell_type": "code",
   "execution_count": null,
   "outputs": [],
   "source": [
    "def dataframe(df, dict):\n",
    "    df['number'][0]=dict['number']\n",
    "    df['hour'][0] = dict['hour']\n",
    "    df['minute'][0] = dict['minute']\n",
    "    df['month'][0] = dict['month']\n",
    "    df['weather_description'][0] = dict['weather_description']\n",
    "    df['main_temp'][0] = dict['main_temp']\n",
    "    df['main_humidity'][0] = dict['main_humidity']\n",
    "    df['wind_speed'][0] = dict['wind_speed']\n",
    "    df['dayofweek'][0] = dict['dayofweek']"
   ],
   "metadata": {
    "collapsed": false,
    "ExecuteTime": {
     "start_time": "2023-04-16T16:12:14.478163Z",
     "end_time": "2023-04-16T16:12:14.491127Z"
    }
   }
  },
  {
   "cell_type": "code",
   "execution_count": null,
   "outputs": [],
   "source": [
    "dataframe(X,inputData)"
   ],
   "metadata": {
    "collapsed": false,
    "ExecuteTime": {
     "start_time": "2023-04-16T16:12:14.494121Z",
     "end_time": "2023-04-16T16:12:14.524039Z"
    }
   }
  },
  {
   "cell_type": "code",
   "execution_count": null,
   "outputs": [],
   "source": [
    "with open('bike_predictor.pkl', 'rb') as handle:\n",
    "    regressor = pickle.load(handle)\n",
    "\n",
    "prediction = regressor.predict(X)\n",
    "prediction[0]\n"
   ],
   "metadata": {
    "collapsed": false,
    "ExecuteTime": {
     "start_time": "2023-04-16T16:12:14.510079Z",
     "end_time": "2023-04-16T16:12:15.386215Z"
    }
   }
  }
 ],
 "metadata": {
  "kernelspec": {
   "display_name": "Python 3",
   "language": "python",
   "name": "python3"
  },
  "language_info": {
   "codemirror_mode": {
    "name": "ipython",
    "version": 2
   },
   "file_extension": ".py",
   "mimetype": "text/x-python",
   "name": "python",
   "nbconvert_exporter": "python",
   "pygments_lexer": "ipython2",
   "version": "2.7.6"
  }
 },
 "nbformat": 4,
 "nbformat_minor": 0
}
